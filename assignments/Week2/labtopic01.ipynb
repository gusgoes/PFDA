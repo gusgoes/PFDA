{
 "cells": [
  {
   "cell_type": "markdown",
   "metadata": {},
   "source": [
    "Write a program to read in the data and output each line as a list.  "
   ]
  },
  {
   "cell_type": "code",
   "execution_count": 2,
   "metadata": {},
   "outputs": [
    {
     "name": "stdout",
     "output_type": "stream",
     "text": [
      "['id', 'age', 'name ']\n",
      "['1', '20', 'Joe ']\n",
      "['2', '21', 'Mary ']\n",
      "['3', '32', 'Fred ']\n"
     ]
    }
   ],
   "source": [
    "'''import csv \n",
    "\n",
    "FILENAME = \"data.csv\" \n",
    "DATADIR = \"C:/Users/gusgo/PFDA/PFDA/assignments/Week2/\"\n",
    "\n",
    "with open (DATADIR + FILENAME, \"rt\") as fp: \n",
    "    reader = csv.reader(fp, delimiter=\",\") \n",
    "    for line in reader:         \n",
    "        print(line)'''\n"
   ]
  },
  {
   "cell_type": "markdown",
   "metadata": {},
   "source": [
    "Modify the program to deal with the header line separately "
   ]
  },
  {
   "cell_type": "code",
   "execution_count": 27,
   "metadata": {},
   "outputs": [
    {
     "name": "stdout",
     "output_type": "stream",
     "text": [
      "['id', 'age', 'name ']\n",
      "-------------------\n",
      "['1', '20', 'Joe ']\n",
      "-------------------\n",
      "['2', '21', 'Mary ']\n",
      "-------------------\n",
      "['3', '32', 'Fred ']\n",
      "-------------------\n"
     ]
    }
   ],
   "source": [
    "import csv \n",
    "\n",
    "FILENAME = \"data.csv\" \n",
    "DATADIR = \"C:/Users/gusgo/PFDA/PFDA/assignments/Week2/\"\n",
    "\n",
    "with open (DATADIR + FILENAME, \"rt\") as fp: \n",
    "    reader = csv.reader(fp, delimiter=\",\") \n",
    "    linecount = 0\n",
    "    for line in reader:         \n",
    "        if not linecount:\n",
    "            print(f\"{line}\\n-------------------\")\n",
    "        else:\n",
    "            print(line)\n",
    "            linecount += 1"
   ]
  }
 ],
 "metadata": {
  "kernelspec": {
   "display_name": "Python 3",
   "language": "python",
   "name": "python3"
  },
  "language_info": {
   "codemirror_mode": {
    "name": "ipython",
    "version": 3
   },
   "file_extension": ".py",
   "mimetype": "text/x-python",
   "name": "python",
   "nbconvert_exporter": "python",
   "pygments_lexer": "ipython3",
   "version": "3.12.7"
  }
 },
 "nbformat": 4,
 "nbformat_minor": 2
}
