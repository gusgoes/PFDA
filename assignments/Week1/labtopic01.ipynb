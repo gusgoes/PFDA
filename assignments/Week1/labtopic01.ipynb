{
 "cells": [
  {
   "cell_type": "markdown",
   "metadata": {},
   "source": [
    "1. Create a CSV file with the following data, call it data.csv (you can copy and \n",
    "paste this data from here). "
   ]
  },
  {
   "cell_type": "code",
   "execution_count": 2,
   "metadata": {},
   "outputs": [],
   "source": [
    "import csv\n",
    "\n",
    "data = [[\"id\", \"age\", \"name\"],\n",
    "    [1, 20, \"Joe\"],\n",
    "    [2, 21, \"Mary\"],\n",
    "    [3, 32, \"Fred\"]]\n",
    "\n",
    "FILENAME = \"data.csv\"\n",
    "DATADIR = \"C:/Users/gusgo/PFDA/PFDA/assignments/week1/\"\n",
    "\n",
    "with open(DATADIR + FILENAME, mode='w', newline='') as file:\n",
    "    writer = csv.writer(file, quoting=csv.QUOTE_NONNUMERIC)\n",
    "    writer.writerows(data)"
   ]
  },
  {
   "cell_type": "markdown",
   "metadata": {},
   "source": [
    "2. Write a program to read in the data and output each line as a list.  "
   ]
  },
  {
   "cell_type": "code",
   "execution_count": 7,
   "metadata": {},
   "outputs": [
    {
     "name": "stdout",
     "output_type": "stream",
     "text": [
      "['id', 'age', 'name']\n",
      "['1', '20', 'Joe']\n",
      "['2', '21', 'Mary']\n",
      "['3', '32', 'Fred']\n"
     ]
    }
   ],
   "source": [
    "import csv \n",
    "\n",
    "FILENAME = \"data.csv\" \n",
    "DATADIR = \"C:/Users/gusgo/PFDA/PFDA/assignments/Week1/\"\n",
    "\n",
    "with open (DATADIR + FILENAME, \"rt\") as fp: \n",
    "    reader = csv.reader(fp, delimiter=\",\") \n",
    "    for line in reader:         \n",
    "        print(line)\n"
   ]
  },
  {
   "cell_type": "markdown",
   "metadata": {},
   "source": [
    "3. Modify the program to deal with the header line separately "
   ]
  },
  {
   "cell_type": "code",
   "execution_count": 8,
   "metadata": {},
   "outputs": [
    {
     "name": "stdout",
     "output_type": "stream",
     "text": [
      "['id', 'age', 'name']\n",
      "-------------------\n",
      "['1', '20', 'Joe']\n",
      "-------------------\n",
      "['2', '21', 'Mary']\n",
      "-------------------\n",
      "['3', '32', 'Fred']\n",
      "-------------------\n"
     ]
    }
   ],
   "source": [
    "import csv \n",
    "\n",
    "FILENAME = \"data.csv\" \n",
    "DATADIR = \"C:/Users/gusgo/PFDA/PFDA/assignments/Week1/\"\n",
    "\n",
    "with open (DATADIR + FILENAME, \"rt\") as fp: \n",
    "    reader = csv.reader(fp, delimiter=\",\") \n",
    "    linecount = 0\n",
    "    for line in reader:         \n",
    "        if not linecount:\n",
    "            print(f\"{line}\\n-------------------\")\n",
    "        else:\n",
    "            print(line)\n",
    "            linecount += 1"
   ]
  },
  {
   "cell_type": "markdown",
   "metadata": {},
   "source": [
    "4. Modify the program to calculate the average age, there are a few ways to \n",
    "solve this; \n",
    "    a.  Convert the string that is read into an integer"
   ]
  },
  {
   "cell_type": "code",
   "execution_count": 14,
   "metadata": {},
   "outputs": [
    {
     "name": "stdout",
     "output_type": "stream",
     "text": [
      "average is: 24.333333333333332\n"
     ]
    }
   ],
   "source": [
    "with open(DATADIR + FILENAME, \"rt\") as fp:\n",
    "    reader = csv.reader(fp, delimiter=\",\")\n",
    "    linecount = 0\n",
    "    total = 0\n",
    "    for line in reader:\n",
    "        if not linecount:\n",
    "            pass\n",
    "        else:\n",
    "            total += int(line[1])\n",
    "        linecount += 1\n",
    "    print(f\"average is: {total/(linecount-1)}\")"
   ]
  },
  {
   "cell_type": "markdown",
   "metadata": {},
   "source": [
    "    b. Use the quote parameter to read in the numbers as floats "
   ]
  },
  {
   "cell_type": "code",
   "execution_count": 50,
   "metadata": {},
   "outputs": [
    {
     "name": "stdout",
     "output_type": "stream",
     "text": [
      "average is 24.333333333333332\n"
     ]
    }
   ],
   "source": [
    "with open (DATADIR + FILENAME, \"rt\") as fp: \n",
    "    reader = csv.reader(fp, delimiter=\",\", quoting=csv.QUOTE_NONNUMERIC) \n",
    "    linecount = 0\n",
    "    total = 0\n",
    "    for line in reader:\n",
    "        if not linecount: \n",
    "            pass \n",
    "        else: \n",
    "            total += line[1] # why 1 ?\n",
    "        linecount += 1 \n",
    "    print (f\"average is {total/(linecount-1)}\") # why -1 ? "
   ]
  },
  {
   "cell_type": "markdown",
   "metadata": {},
   "source": [
    "5. The CVS file could of course have been read in as a Dictionary object \n",
    "Using DictReader()"
   ]
  },
  {
   "cell_type": "code",
   "execution_count": 54,
   "metadata": {},
   "outputs": [
    {
     "name": "stdout",
     "output_type": "stream",
     "text": [
      "average is 24.333333333333332\n"
     ]
    }
   ],
   "source": [
    "with open (DATADIR + FILENAME, \"rt\") as fp: \n",
    "    reader = csv.DictReader(fp, delimiter=\",\" , quoting=csv.QUOTE_NONNUMERIC) \n",
    "    total = 0 \n",
    "    count = 0 \n",
    "    for line in reader: \n",
    "        total += line['age'] \n",
    "         \n",
    "        count +=1 \n",
    "    print (f\"average is {total/(count)}\") # why is there no -1 this time? "
   ]
  },
  {
   "cell_type": "markdown",
   "metadata": {},
   "source": [
    "6. Copy this URL into browser and see the JSON it returns.\n",
    "https://api.coindesk.com/v1/bpi/currentprice.json"
   ]
  },
  {
   "cell_type": "markdown",
   "metadata": {},
   "source": [
    "{\n",
    "    \"time\": {\n",
    "        \"updated\": \"Oct 9, 2024 19:52:32 UTC\",\n",
    "        \"updatedISO\": \"2024-10-09T19:52:32+00:00\",\n",
    "        \"updateduk\": \"Oct 9, 2024 at 20:52 BST\"\n",
    "    },\n",
    "    \"disclaimer\": \"This data was produced from the CoinDesk Bitcoin Price Index (USD). Non-USD currency data converted using hourly conversion rate from openexchangerates.org\",\n",
    "    \"chartName\": \"Bitcoin\",\n",
    "    \"bpi\": {\n",
    "        \"USD\": {\n",
    "            \"code\": \"USD\",\n",
    "            \"symbol\": \"&#36;\",\n",
    "            \"rate\": \"61,089.075\",\n",
    "            \"description\": \"United States Dollar\",\n",
    "            \"rate_float\": 61089.0753\n",
    "        },\n",
    "        \"GBP\": {\n",
    "            \"code\": \"GBP\",\n",
    "            \"symbol\": \"&pound;\",\n",
    "            \"rate\": \"46,756.784\",\n",
    "            \"description\": \"British Pound Sterling\",\n",
    "            \"rate_float\": 46756.7841\n",
    "        },\n",
    "        \"EUR\": {\n",
    "            \"code\": \"EUR\",\n",
    "            \"symbol\": \"&euro;\",\n",
    "            \"rate\": \"55,857.346\",\n",
    "            \"description\": \"Euro\",\n",
    "            \"rate_float\": 55857.3458\n",
    "        }\n",
    "    }\n",
    "}"
   ]
  },
  {
   "cell_type": "markdown",
   "metadata": {},
   "source": [
    "7. Write a program to print this JSON to the console. "
   ]
  },
  {
   "cell_type": "code",
   "execution_count": 58,
   "metadata": {},
   "outputs": [
    {
     "name": "stdout",
     "output_type": "stream",
     "text": [
      "{'time': {'updated': 'Oct 9, 2024 20:05:02 UTC', 'updatedISO': '2024-10-09T20:05:02+00:00', 'updateduk': 'Oct 9, 2024 at 21:05 BST'}, 'disclaimer': 'This data was produced from the CoinDesk Bitcoin Price Index (USD). Non-USD currency data converted using hourly conversion rate from openexchangerates.org', 'chartName': 'Bitcoin', 'bpi': {'USD': {'code': 'USD', 'symbol': '&#36;', 'rate': '60,934.528', 'description': 'United States Dollar', 'rate_float': 60934.5281}, 'GBP': {'code': 'GBP', 'symbol': '&pound;', 'rate': '46,638.496', 'description': 'British Pound Sterling', 'rate_float': 46638.4956}, 'EUR': {'code': 'EUR', 'symbol': '&euro;', 'rate': '55,716.034', 'description': 'Euro', 'rate_float': 55716.0341}}}\n"
     ]
    }
   ],
   "source": [
    "import requests\n",
    " \n",
    "url =\"https://api.coindesk.com/v1/bpi/currentprice.json\" \n",
    "response = requests.get(url) \n",
    "data = response.json() \n",
    "print(data) "
   ]
  },
  {
   "cell_type": "markdown",
   "metadata": {},
   "source": [
    "8. Modify the program to only output the current price in Euros. "
   ]
  },
  {
   "cell_type": "code",
   "execution_count": 59,
   "metadata": {},
   "outputs": [
    {
     "name": "stdout",
     "output_type": "stream",
     "text": [
      "55716.0341\n"
     ]
    }
   ],
   "source": [
    "print(data['bpi']['EUR']['rate_float']) "
   ]
  }
 ],
 "metadata": {
  "kernelspec": {
   "display_name": "Python 3",
   "language": "python",
   "name": "python3"
  },
  "language_info": {
   "codemirror_mode": {
    "name": "ipython",
    "version": 3
   },
   "file_extension": ".py",
   "mimetype": "text/x-python",
   "name": "python",
   "nbconvert_exporter": "python",
   "pygments_lexer": "ipython3",
   "version": "3.12.7"
  }
 },
 "nbformat": 4,
 "nbformat_minor": 2
}
